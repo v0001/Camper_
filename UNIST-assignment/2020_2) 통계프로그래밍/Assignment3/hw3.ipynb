{
  "nbformat": 4,
  "nbformat_minor": 0,
  "metadata": {
    "kernelspec": {
      "name": "python3",
      "display_name": "Python 3"
    },
    "colab": {
      "name": "hw3.ipynb",
      "provenance": [],
      "collapsed_sections": [],
      "toc_visible": true,
      "include_colab_link": true
    },
    "accelerator": "TPU"
  },
  "cells": [
    {
      "cell_type": "markdown",
      "metadata": {
        "id": "view-in-github",
        "colab_type": "text"
      },
      "source": [
        "<a href=\"https://colab.research.google.com/github/v0001/Camper_/blob/master/UNIST-assignment/2020_2)%20%ED%86%B5%EA%B3%84%ED%94%84%EB%A1%9C%EA%B7%B8%EB%9E%98%EB%B0%8D/Assignment3/hw3.ipynb\" target=\"_parent\"><img src=\"https://colab.research.google.com/assets/colab-badge.svg\" alt=\"Open In Colab\"/></a>"
      ]
    },
    {
      "cell_type": "markdown",
      "metadata": {
        "id": "hEZb9OsAGpZS"
      },
      "source": [
        "### Statistical Programming\n",
        "### Fall 2020\n",
        "### Homework 3 (Due Oct 15)"
      ]
    },
    {
      "cell_type": "markdown",
      "metadata": {
        "id": "PBH6yCL3GpZT"
      },
      "source": [
        "1. Reproduce the Figure 4.1 with your convenient statistical software. Provide your code and its output. "
      ]
    },
    {
      "cell_type": "code",
      "metadata": {
        "id": "e6ou4OM_HyPS",
        "outputId": "0f9df82e-5322-46fb-94c6-3e2a6d1e883f",
        "colab": {
          "base_uri": "https://localhost:8080/",
          "height": 90
        }
      },
      "source": [
        "import numpy as np                # numpy로 다양한 수식을 사용\n",
        "import pandas as pd               # pandas lib 사용\n",
        "import matplotlib.pyplot as plt   # 그래프 \n",
        "import pandas.util.testing as tm\n",
        "import seaborn as sns\n",
        "import scipy.stats as ss\n",
        "from scipy.stats import norm\n",
        "import matplotlib.mlab as mlab\n",
        "import math\n",
        "%matplotlib inline\n",
        "%precision 3"
      ],
      "execution_count": 1,
      "outputs": [
        {
          "output_type": "stream",
          "text": [
            "/usr/local/lib/python3.6/dist-packages/ipykernel_launcher.py:4: FutureWarning: pandas.util.testing is deprecated. Use the functions in the public API at pandas.testing instead.\n",
            "  after removing the cwd from sys.path.\n"
          ],
          "name": "stderr"
        },
        {
          "output_type": "execute_result",
          "data": {
            "application/vnd.google.colaboratory.intrinsic+json": {
              "type": "string"
            },
            "text/plain": [
              "'%.3f'"
            ]
          },
          "metadata": {
            "tags": []
          },
          "execution_count": 1
        }
      ]
    },
    {
      "cell_type": "code",
      "metadata": {
        "id": "qsJgLEVPIl-1",
        "outputId": "e5aa101e-d77c-4397-9065-e9502c834443",
        "colab": {
          "base_uri": "https://localhost:8080/",
          "height": 34
        }
      },
      "source": [
        "from google.colab import drive\n",
        "drive.mount('/content/drive')"
      ],
      "execution_count": 2,
      "outputs": [
        {
          "output_type": "stream",
          "text": [
            "Mounted at /content/drive\n"
          ],
          "name": "stdout"
        }
      ]
    },
    {
      "cell_type": "code",
      "metadata": {
        "id": "muN_-1AoHyMi"
      },
      "source": [
        "gfr = pd.read_csv(\"/content/drive/My Drive/★UNIST/2020 2학기/Statistical Programming/Assignment 3/gfr.txt\", delimiter=\" \", header=None)\n",
        "gfr.columns = ['value']"
      ],
      "execution_count": 3,
      "outputs": []
    },
    {
      "cell_type": "code",
      "metadata": {
        "id": "I-NtqUr1JQ1G",
        "outputId": "8218e44c-8029-44f3-e943-d397dafe1a7d",
        "colab": {
          "base_uri": "https://localhost:8080/",
          "height": 195
        }
      },
      "source": [
        "gfr.head()"
      ],
      "execution_count": 4,
      "outputs": [
        {
          "output_type": "execute_result",
          "data": {
            "text/html": [
              "<div>\n",
              "<style scoped>\n",
              "    .dataframe tbody tr th:only-of-type {\n",
              "        vertical-align: middle;\n",
              "    }\n",
              "\n",
              "    .dataframe tbody tr th {\n",
              "        vertical-align: top;\n",
              "    }\n",
              "\n",
              "    .dataframe thead th {\n",
              "        text-align: right;\n",
              "    }\n",
              "</style>\n",
              "<table border=\"1\" class=\"dataframe\">\n",
              "  <thead>\n",
              "    <tr style=\"text-align: right;\">\n",
              "      <th></th>\n",
              "      <th>value</th>\n",
              "    </tr>\n",
              "  </thead>\n",
              "  <tbody>\n",
              "    <tr>\n",
              "      <th>0</th>\n",
              "      <td>108</td>\n",
              "    </tr>\n",
              "    <tr>\n",
              "      <th>1</th>\n",
              "      <td>91</td>\n",
              "    </tr>\n",
              "    <tr>\n",
              "      <th>2</th>\n",
              "      <td>62</td>\n",
              "    </tr>\n",
              "    <tr>\n",
              "      <th>3</th>\n",
              "      <td>59</td>\n",
              "    </tr>\n",
              "    <tr>\n",
              "      <th>4</th>\n",
              "      <td>84</td>\n",
              "    </tr>\n",
              "  </tbody>\n",
              "</table>\n",
              "</div>"
            ],
            "text/plain": [
              "   value\n",
              "0    108\n",
              "1     91\n",
              "2     62\n",
              "3     59\n",
              "4     84"
            ]
          },
          "metadata": {
            "tags": []
          },
          "execution_count": 4
        }
      ]
    },
    {
      "cell_type": "code",
      "metadata": {
        "id": "wCYkVtjrU5un",
        "outputId": "8fd113ed-48bb-4bd7-ff20-10a114aaf800",
        "colab": {
          "base_uri": "https://localhost:8080/",
          "height": 34
        }
      },
      "source": [
        "mu = np.mean(gfr).value\n",
        "sigma = np.std(gfr).value\n",
        "mu, sigma"
      ],
      "execution_count": 5,
      "outputs": [
        {
          "output_type": "execute_result",
          "data": {
            "text/plain": [
              "(54.265, 13.688)"
            ]
          },
          "metadata": {
            "tags": []
          },
          "execution_count": 5
        }
      ]
    },
    {
      "cell_type": "code",
      "metadata": {
        "id": "cyK7kzLnSKDC"
      },
      "source": [
        "data = np.arange(-10, 120, 1)\n",
        "y_normal = 1/np.sqrt(2*np.pi*sigma**2)/np.exp((data-mu)**2/(2*sigma**2))"
      ],
      "execution_count": 6,
      "outputs": []
    },
    {
      "cell_type": "code",
      "metadata": {
        "id": "SIzLEY_GbLis",
        "outputId": "866b35b5-daf4-4ba6-84c6-8c64dd3301bf",
        "colab": {
          "base_uri": "https://localhost:8080/",
          "height": 474
        }
      },
      "source": [
        "from scipy.special import gamma\n",
        "\n",
        "mu = 21.4\n",
        "shape = 6.0\n",
        "scale = 5.47\n",
        "y_gamma = (data-mu/2) ** (shape - 1) * np.exp(- (data-mu/2)/ scale) / (scale ** shape * gamma(shape))\n",
        "y_gamma"
      ],
      "execution_count": 7,
      "outputs": [
        {
          "output_type": "execute_result",
          "data": {
            "text/plain": [
              "array([-5.203e+01, -3.383e+01, -2.172e+01, -1.374e+01, -8.558e+00,\n",
              "       -5.235e+00, -3.138e+00, -1.837e+00, -1.048e+00, -5.791e-01,\n",
              "       -3.086e-01, -1.574e-01, -7.607e-02, -3.441e-02, -1.430e-02,\n",
              "       -5.307e-03, -1.685e-03, -4.243e-04, -7.313e-05, -6.027e-06,\n",
              "       -5.942e-08,  7.156e-10,  9.107e-07,  1.315e-05,  6.660e-05,\n",
              "        2.084e-04,  4.937e-04,  9.759e-04,  1.698e-03,  2.687e-03,\n",
              "        3.953e-03,  5.487e-03,  7.263e-03,  9.244e-03,  1.138e-02,\n",
              "        1.362e-02,  1.591e-02,  1.818e-02,  2.040e-02,  2.250e-02,\n",
              "        2.445e-02,  2.622e-02,  2.778e-02,  2.910e-02,  3.018e-02,\n",
              "        3.102e-02,  3.161e-02,  3.196e-02,  3.208e-02,  3.198e-02,\n",
              "        3.169e-02,  3.122e-02,  3.059e-02,  2.981e-02,  2.892e-02,\n",
              "        2.793e-02,  2.686e-02,  2.573e-02,  2.455e-02,  2.334e-02,\n",
              "        2.211e-02,  2.088e-02,  1.966e-02,  1.846e-02,  1.728e-02,\n",
              "        1.613e-02,  1.502e-02,  1.396e-02,  1.294e-02,  1.196e-02,\n",
              "        1.104e-02,  1.017e-02,  9.343e-03,  8.571e-03,  7.848e-03,\n",
              "        7.173e-03,  6.545e-03,  5.963e-03,  5.424e-03,  4.926e-03,\n",
              "        4.467e-03,  4.045e-03,  3.658e-03,  3.304e-03,  2.980e-03,\n",
              "        2.684e-03,  2.415e-03,  2.170e-03,  1.948e-03,  1.747e-03,\n",
              "        1.565e-03,  1.400e-03,  1.251e-03,  1.118e-03,  9.970e-04,\n",
              "        8.887e-04,  7.914e-04,  7.041e-04,  6.259e-04,  5.559e-04,\n",
              "        4.934e-04,  4.375e-04,  3.877e-04,  3.433e-04,  3.037e-04,\n",
              "        2.685e-04,  2.372e-04,  2.095e-04,  1.848e-04,  1.630e-04,\n",
              "        1.436e-04,  1.264e-04,  1.113e-04,  9.788e-05,  8.604e-05,\n",
              "        7.559e-05,  6.637e-05,  5.824e-05,  5.108e-05,  4.478e-05,\n",
              "        3.923e-05,  3.436e-05,  3.007e-05,  2.631e-05,  2.300e-05,\n",
              "        2.011e-05,  1.757e-05,  1.534e-05,  1.339e-05,  1.168e-05])"
            ]
          },
          "metadata": {
            "tags": []
          },
          "execution_count": 7
        }
      ]
    },
    {
      "cell_type": "code",
      "metadata": {
        "id": "_Ad2NeChtCwH",
        "outputId": "6c77a1c1-80a4-4c5a-9a54-24d8f6a8462d",
        "colab": {
          "base_uri": "https://localhost:8080/",
          "height": 585
        }
      },
      "source": [
        "fig, ax1 = plt.subplots(figsize=(12, 8))\n",
        "\n",
        "ax1.hist(gfr.value,bins = 29, edgecolor=\"k\", color=\"limegreen\")\n",
        "ax1.set_xlabel(r\"gfr\", size=16)\n",
        "ax1.set_ylabel(r\"Frequency\", size=16 , rotation = 0, labelpad=50);\n",
        "ax1.annotate(\"Normal\",xy=(75, 7.0) ,size=15)\n",
        "ax1.annotate(\"Gamma\",xy=(18, 15.0),size=15,color=\"y\")\n",
        "\n",
        "ax2 = ax1.twinx()  # instantiate a second axes that shares the same x-axis\n",
        "ax2.set(xlim=(-10, 120),ylim=(0,0.05))\n",
        "color = 'tab:blue'\n",
        "# ax1.plot(x,result )\n",
        "\n",
        "ax2.plot(data,y_normal,linewidth = 3, color = 'k')\n",
        "ax2.plot(data,y_gamma, color = 'y', linestyle = '--', linewidth = 2.2)\n",
        "\n",
        "fig.tight_layout()  # otherwise the right y-label is slightly clipped\n",
        "plt.show()\n"
      ],
      "execution_count": 8,
      "outputs": [
        {
          "output_type": "display_data",
          "data": {
            "image/png": "[encoded data removed]",
            "text/plain": [
              "<Figure size 864x576 with 2 Axes>"
            ]
          },
          "metadata": {
            "tags": [],
            "needs_background": "light"
          }
        }
      ]
    },
    {
      "cell_type": "markdown",
      "metadata": {
        "id": "TplmFghDDqbp"
      },
      "source": [
        "# Problem 2\n"
      ]
    },
    {
      "cell_type": "markdown",
      "metadata": {
        "id": "LUqQOfmkGpZT"
      },
      "source": [
        "2. Suppose we wish to estimate a single parameter $\\mu$ from observation $x$ in the Bayesian situation\n",
        "$$\n",
        "\\mu\\sim \\mathcal{N}(M,A)\\quad\\text{and}\\quad x|\\mu\\sim\\mathcal{N}(\\mu,1).\n",
        "$$\n",
        "    + Calculate the Bayes estimator of $\\mu$, $\\hat{\\mu}^{\\text{Bayes}}$.\n",
        "    + Calculate the MLE of $\\mu$, $\\hat{\\mu}^{\\text{MLE}}$.\n",
        "    + If $A=1$, then what would the value of $E\\{(\\hat{\\mu}^{\\text{Bayes}}-\\mu)^2\\}$ be?\n",
        "    "
      ]
    },
    {
      "cell_type": "markdown",
      "metadata": {
        "id": "WLnwfH8yWS18"
      },
      "source": [
        "## 2-1. Calculate the Bayes estimator of $\\mu$, $\\hat{\\mu}^{\\text{Bayes}}$\n",
        "\n"
      ]
    },
    {
      "cell_type": "markdown",
      "metadata": {
        "id": "LDcEB5QCgdV3"
      },
      "source": [
        "1. Assumption \n",
        "\n",
        "\n",
        "$$\n",
        "\\textbf{P}\\left (  \\mu \\right ) \\sim N\\left(M, A \\right) \n",
        "$$\n",
        "\n",
        "$$\n",
        "\\textbf{P}\\left (  x|\\mu \\right ) \\sim N\\left(\\mu, 1 \\right) = N\\left(\\mu_{0}  , \\sigma_{0}^2 \\right)\n",
        "$$\n",
        "\n",
        "$$\n",
        "\n",
        "2. Find $\\hat{\\mu}^{\\text{Bayes}}$ through Bayesian Theorem\n",
        "\n",
        "$$\n",
        "\\textbf{P}(\\mu\\mid D)= \\frac{\\textbf{P}(D\\mid  \\mu)\\textbf{P}(\\mu)}{\\textbf{P}(D)}\n",
        "$$\n",
        "$$\n",
        "=  \\prod_{i = 1}^{N} \\textbf{P}(x_{i}\\mid \\theta )\\textbf{P}(\\mu)\\frac{1}{\\sum_{1}^{N}\\textbf{P}(x_{i})}\n",
        "$$\n",
        "Because of $\\sum_{1}^{N}\\textbf{P}(x_{i}) = 1,$ \n",
        "$$\n",
        "\\ \\textbf{P}(\\mu\\mid D)=\\textbf{P}(\\mu)\\prod_{i = 1}^{N} \\textbf{P}(x_{i}\\mid \\theta )\n",
        "$$\n",
        "\n",
        "$$\n",
        "= \\frac{1}{\\sqrt{2\\pi \\sigma_{0}^2}} \\exp (\\frac{-( M -\\mu_{0})^2}{2\\sigma_{0}^2})* \\prod_{i = 1}^{N}\\frac{1}{\\sqrt{2\\pi A }} \\exp (\\frac{-(x_i-\\mu)^2}{2 A })\n",
        "$$\n",
        "\n",
        "$$\n",
        "= \\frac{1}{\\sqrt{2\\pi \\sigma_{0}^2}}\\frac{1}{\\sqrt{2\\pi  A }} \\exp (\\frac{-( M -\\mu_{0})^2}{2\\sigma_{0}^2} -\\sum_{i=1}^{N}\\frac{(x_i- M )^2}{2 A })\n",
        "$$\n",
        "$$\n",
        "= \\frac{1}{\\sqrt{2\\pi^{(N+1)}}{\\sqrt{\\sigma_{0}^2 \\sigma^{2N}}}} \\exp (\\frac{-( M -\\mu_{0})^2}{2\\sigma_{0}^2} -\\sum_{i=1}^{N}\\frac{(x_i- M )^2}{2 A })\n",
        "$$\n",
        "\n",
        "$$\n",
        "= \\frac{1}{\\sqrt{2\\pi^{(N+1)}}{\\sqrt{\\sigma_{0}^2 \\sigma^{2N}}}} \\exp [\\frac{1}{2\\sigma_{0}^2} (- M^2+2 M \\mu_{0}-\\mu_{0}^2)-\\frac{1}{2 A }\\sum_{i=1}^{N}(x_i^2-2x_i M + M^2)]\n",
        "$$\n",
        "$$\n",
        "\\propto  \\exp [\\frac{1}{2\\sigma_{0}^2} (- M^2+2 M\\mu_{0}-\\mu_{0}^2)-\\frac{1}{2 A }\\sum_{i=1}^{N}(x_i^2+2x_i M + M^2)]\n",
        "$$\n",
        "$$\n",
        "=  \\exp [\\frac{- M^2( A  + \\sigma_0^2N)+ 2 M (\\mu_0 A  + \\sum_{i=1}^{N}\\sigma_0^2x_i) -(\\mu_0^2 A  + \\sum_{i = 1}^{N} \\sigma_0^2x_i^2)}{2\\sigma_{0}^2 A }]\n",
        "$$\n",
        "$$\n",
        "=  \\exp [-\\frac{ M^2 - \\frac{2 M(\\mu_0 A  + \\sum_{i=1}^{N}\\sigma_0^2x_i)}{ A  + \\sigma_0^2N} +\\frac{(\\mu_0^2 A  + \\sum_{i = 1}^{N} \\sigma_0^2x_i^2)}{ A  + \\sigma_0^2N}}{\\frac{2\\sigma_{0}^2 A }{ A + \\sigma_0^2N}}]\n",
        "$$\n",
        "$$\n",
        "\\propto  \\exp [-\\frac{ M ^2 - \\frac{2 M (\\mu_0 A  + \\sum_{i=1}^{N}\\sigma_0^2x_i)}{ A  + \\sigma_0^2N} +(\\frac{\\mu_0 A  + \\sum_{i=1}^{N}\\sigma_0^2x_i}{ A  + \\sigma_0^2N})^2}{\\frac{2\\sigma_{0}^2 A }{ A + \\sigma_0^2N}}]\n",
        "$$\n",
        "$$\n",
        "= \\exp [-\\frac{( M  - \\frac{\\mu_0 A  + \\sum_{i=1}^{N}\\sigma_0^2x_i}{ A  + \\sigma_0^2N})^2}{2\\frac{\\sigma_{0}^2 A }{ A  + \\sigma_0^2N}}]\n",
        "$$\n",
        "\n",
        "AS the prior is assumed as Gaussian, we can assume that the posterior is Gaussian as well. \n",
        "\n",
        "$$\n",
        "\\textbf{P}(\\mu\\mid D) = \\frac{1}{\\sqrt{2\\pi\\sigma_{1}^2}}\\exp {\\left \\{ -\\frac{1}{2\\sigma_{1}^2}( M -\\mu_{1})^2 \\right \\}}\n",
        "$$\n",
        "\n",
        "$$\n",
        "\\propto \\exp [-\\frac{( M  - \\frac{\\mu_0 A  + \\sum_{i=1}^{N}\\sigma_0^2x_i}{ A  + \\sigma_0^2N})^2}{2\\frac{\\sigma_{0}^2 A }{ A  + \\sigma_0^2N}}]\n",
        "$$\n",
        "Through the above result, we can infer the target parameters ( $\\hat{\\mu}^{\\text{Bayes}}$)\n",
        "\n",
        "$$\n",
        "\\hat{\\mu}^{\\text{Bayes}} = \\frac{\\mu_0 A + \\sum_{i=1}^{N}\\sigma_0^2x_i}{ A  + \\sigma_0^2N}\n",
        "$$\n",
        "\n",
        "$$\n",
        "= \\mu_0 \\frac{ A }{ A  + \\sigma_0^2N} + \\frac{ \\sigma_0^2 \\sum_{i=1}^{N}x_i}{ A + \\sigma_0^2N}\n",
        "$$\n",
        "$$\n",
        "= \\mu_0 \\frac{ A }{A + \\sigma_0^2N} + \\bar{X}\\frac{ \\sigma_0^2 N}{A+ \\sigma_0^2N}\n",
        "$$\n",
        "\n",
        "$$\n",
        "= \\mu_0 \\frac{ A }{A + \\sigma_0^2N} + \\bar{X}\\frac{ \\sigma_0^2 N}{A+ \\sigma_0^2N}\n",
        "$$\n",
        "\n"
      ]
    },
    {
      "cell_type": "markdown",
      "metadata": {
        "id": "DuSLbVdHpHnE"
      },
      "source": [
        "Now, apply below notation. \n",
        "$$\n",
        "\\textbf{P}\\left (  x|\\mu \\right ) \\sim N\\left(\\mu, 1 \\right) = N\\left(\\mu_{0}  , \\sigma_{0}^2 \\right)\n",
        "$$\n",
        "\n",
        "$$\n",
        "= \\mu \\frac{ A }{A +N} + M \\frac{ N}{A+ N}\n",
        "$$"
      ]
    },
    {
      "cell_type": "markdown",
      "metadata": {
        "id": "4O9n3YunWTDA"
      },
      "source": [
        "## 2-2. Calculate the MLE of $\\mu$, $\\hat{\\mu}^{\\text{MLE}}$."
      ]
    },
    {
      "cell_type": "markdown",
      "metadata": {
        "id": "lzYqfk7lWYzv"
      },
      "source": [
        "$$\n",
        " {\\cal L}(\\theta) = \\sum_{t=1}^{N} log \\ \\textbf{P}\\left ( x_i\\mid \\theta  \\right )  \n",
        " $$\n",
        "\n",
        "$$\n",
        "\\qquad         = \\sum_{t=1}^{N} log (\\frac{1}{\\sqrt{2\\pi \\sigma ^2}}exp(-\\frac{(x_t-\\mu)^2}{2\\sigma ^2}))\n",
        " $$\n",
        "\n",
        " $$\n",
        " \\qquad = \\sum_{t=1}^{N} \\left[ -\\frac{1}{2} log 2\\pi \\sigma ^2 - \\frac{1}{2\\sigma ^2}(x_t-\\mu)^2   \\right ]\n",
        " $$\n",
        "\n",
        "> In order to find the best parameters making the maximum likelihood,\n",
        "need to differentiate the above formula from each parameter's perspective.\n",
        "\n",
        "> 1. find the best $\\hat{\\mu}^{\\text{MLE}}$ (differentiate $\\textbf{P}\\left ( x\\mid \\theta  \\right )$ from $\\mu$  perspective) \n",
        "\n",
        "$$\n",
        " {\\cal L}(\\theta) = \\sum_{t=1}^{N} \\left[ -\\frac{1}{2} log 2\\pi \\sigma ^2 - \\frac{1}{2\\sigma ^2}(x_t-\\mu)^2   \\right ]\n",
        "$$\n",
        "$$\n",
        "Remove \\ the \\ constant\n",
        "$$\n",
        "\n",
        "$$\n",
        "= -  \\sum_{t=1}^{N} \\frac{1}{2\\sigma ^2}(x_t-\\mu)^2\n",
        "$$\n",
        "\n",
        "$$\n",
        "\\qquad    \n",
        "= -  \\sum_{t=1}^{N} \\frac{1}{2\\sigma ^2}(x_t^2 - 2x_t\\mu+\\mu^2)\n",
        "$$\n",
        "\n",
        "$$\n",
        "Remove \\ the \\ constant\n",
        "$$\n",
        "$$\n",
        "\\qquad       = -  \\sum_{t=1}^{N} \\frac{1}{2\\sigma ^2}(- 2x_t\\mu+\\mu^2)\n",
        "$$\n",
        "$$\n",
        "\\Downarrow \\frac{d {\\cal L}(\\theta)}{d\\mu } = 0\n",
        "$$\n",
        "$$\n",
        "l(\\mu ) = -  \\sum_{t=1}^{N} \\frac{1}{2\\sigma ^2}(- 2x_t+2\\mu)\n",
        "= 0\n",
        "$$\n",
        "$$\n",
        "\\qquad = \\sum_{t=1}^{N} \\frac{(x_t - \\mu)}{\\sigma ^2} \n",
        "$$\n",
        "\n",
        "$$\n",
        "\\qquad =  \\sum_{t=1}^{N} \\frac{x_t}{\\sigma ^2} - \\sum_{t=1}^{N} \\frac{ \\mu}{\\sigma ^2}  = 0\n",
        "$$\n",
        "\n",
        "$$\n",
        "\\sum_{t=1}^{N}\\mu = \\sum_{t=1}^{N} x_t \n",
        "$$\n",
        "$$\n",
        "N\\mu =\\sum_{t=1}^{N} x_t \n",
        "$$\n",
        "$$\n",
        "\\hat{\\mu}^{\\text{MLE}} =\\frac{1}{N}\\sum_{t=1}^{N} x_t \n",
        "$$"
      ]
    },
    {
      "cell_type": "markdown",
      "metadata": {
        "id": "GY_EvBcH_JZd"
      },
      "source": [
        "## 2-3. If $A=1$, then what would the value of $E\\{(\\hat{\\mu}^{\\text{Bayes}}-\\mu)^2\\}$ be?\n"
      ]
    },
    {
      "cell_type": "markdown",
      "metadata": {
        "id": "I-HMyNe7t-u-"
      },
      "source": [
        "$$\n",
        "\\hat{\\mu} = E[\\mu|X] = \\int \\mu P(\\mu|x)d\\mu\n",
        "$$\n",
        "\n",
        "$$\n",
        "E[\\hat{\\mu}-\\mu] = E[E[\\mu|x] - \\mu] = E[E[\\mu|x]]-E[\\mu] = E[\\hat{\\mu} ]-E[\\mu] = 0\n",
        "$$\n",
        "Therefore, we can get this assumption. \n",
        "$$\n",
        "E[\\hat{\\mu} ]=E[\\mu]\n",
        "$$\n",
        "\n",
        "\n",
        "> 1. Find $E\\{(\\hat{\\mu}^{\\text{Bayes}}-\\mu)^2\\}$\n",
        "\n",
        "\n",
        "$$\n",
        "E\\{(\\hat{\\mu}^{\\text{Bayes}}-\\mu)^2\\} = Var \\hat{\\mu} + (E[\\hat{\\mu}]-\\mu)^2 \n",
        "$$\n",
        "$$\n",
        "= 1 + (E[\\mu]-\\mu)^2 \n",
        "$$\n",
        "\n",
        "\n",
        "> Result \n",
        "$$\n",
        "E\\{(\\hat{\\mu}^{\\text{Bayes}}-\\mu)^2\\}= 1 + (M-\\mu)^2 \n",
        "$$"
      ]
    },
    {
      "cell_type": "markdown",
      "metadata": {
        "id": "KBijJagmDwXb"
      },
      "source": [
        "# Problem 3"
      ]
    },
    {
      "cell_type": "markdown",
      "metadata": {
        "id": "YnRUDtMIGpZU"
      },
      "source": [
        "3. An engineer measures the voltages on a batch of 12 tubes, using a voltmeter that is normally calibrated,\n",
        "$$\n",
        "x\\sim \\mathcal{N}(\\mu,1),\n",
        "$$\n",
        "where $x$ being any one measurement and $\\mu$ the true batch voltage. The measurements range from 82 to 99, with an average of $\\bar{x}=92$, which he reports back as an unbiased estimate of $\\mu$. The next day he discovers a glitch in his voltmeter such that any voltage exceeding 100 would have been reported as $x=100$. \n",
        "    + Is $\\bar{x}=92$ still unbiased for the true expectation $\\mu$? Describe the difference between Frequentist perspective and Bayesian perspective on this question. \n",
        "    + Suppose that you computed confidence interval and credible interval of $\\mu$ before discovering the glitch. Explain how the glitch affects your confidence interval and credible interval. \n"
      ]
    },
    {
      "cell_type": "markdown",
      "metadata": {
        "id": "Y4-UjB9O_QBt"
      },
      "source": [
        "## 3-1. Is $\\bar{x}=92$ still unbiased for the true expectation $\\mu$? Describe the difference between Frequentist perspective and Bayesian perspective on this question. "
      ]
    },
    {
      "cell_type": "markdown",
      "metadata": {
        "id": "Qu70JyE7Bn-9"
      },
      "source": [
        "1) Frequentist Perspective \n",
        "- $\\bar{x}=92$ is not still unbiased for the true expectation \n",
        "\n",
        "As he found the new measurement unlike the previous result of his measurement, it means that the assumption is not sufficient to explain the family of the entire valtages.  \n",
        "\n",
        " $\\bar{x}=92$ is biased for the true exoectation $\\mu$ since the assumed distribution [$ x\\sim \\mathcal{N}(\\mu,1)$ ] is no longer completely describes the probability of the observed data. \n",
        "\n"
      ]
    },
    {
      "cell_type": "markdown",
      "metadata": {
        "id": "TK0yGvmxDli2"
      },
      "source": [
        "2) Bayesian Perspective \n",
        "- $\\bar{x}=92$ is still unbiased for the true expectation \n",
        "\n",
        "for any density $g(\\mu)$, the posterior density \n",
        "$$\n",
        "g(\\mu|x) = g(\\mu)f_\\mu(x)/f(x)\n",
        "$$\n",
        "where $x$ is the vector of 12 measurements, depending only on the data $x$ actually observed. \n",
        "\n",
        "It means that $g(\\mu|x)$ depens on the measured data only. but it doesn't depend on other potential data sets X  or the family of the entire valtages that might have seen. \n"
      ]
    },
    {
      "cell_type": "markdown",
      "metadata": {
        "id": "mc1EnA___S3O"
      },
      "source": [
        "## 3-2. Suppose that you computed confidence interval and credible interval of $\\mu$ before discovering the glitch. Explain how the glitch affects your confidence interval and credible interval. "
      ]
    },
    {
      "cell_type": "markdown",
      "metadata": {
        "id": "pEj6lyCuV3aT"
      },
      "source": [
        "1. confidence interval from \n",
        "\n",
        "$\\mu$ is a confidence interval which means the probability that the population mean is placeed whitin the set of sample means. If we take 100 random samples, the true population mean can lie in the 95 confidence intervals of the sample sets out of 100. \n",
        "\n",
        "In this situation, because new data(over 100) is observed, (any voltage exceeding 100 would have been reported as  x=100) the sample space is changed. \n",
        "\n",
        "In other words, we can say that the true population mean would be different from what we assumed. and changed to the higher value. Therefore, it's diffidult to believe in the confidence interval.   \n",
        "\n",
        "\n",
        "\n"
      ]
    },
    {
      "cell_type": "markdown",
      "metadata": {
        "id": "Iu_ZlbcqZoK6"
      },
      "source": [
        "2. credible interval \n",
        "\n",
        "$\\mu$ is a credible interval that is simply an interval within which an unobserved parameter value falls with a particular probability.\n",
        "\n",
        "The credible interval is irrespective of the likelihood function for the full data set. Thus, the posterior distribution $g(\\mu|x)$ doesn't have an effect on the credible interval because it is only affected by x through the likelihood $L(\\mu|x)$. \n",
        "\n",
        "To wrap up, it doesn't depend on the unobserved potential data sets X, the glitch doesn't affect the credible interval. \n"
      ]
    },
    {
      "cell_type": "markdown",
      "metadata": {
        "id": "FgpsXXO7A5au"
      },
      "source": [
        "# Problem 4"
      ]
    },
    {
      "cell_type": "markdown",
      "metadata": {
        "id": "L_ZdsDKrGpZU"
      },
      "source": [
        "4. The family of Bernoulli distributions $B(p)$ has probability mass function \n",
        "$$\n",
        "f(x|p)=p^x(1-p)^{1-x}\n",
        "$$\n",
        "and taking the logarithm\n",
        "$$\n",
        "\\log f(x|p)=x\\log p+(1-x)\\log(1-p).\n",
        "$$\n",
        "    + Show that the MLE of $p$ is $\\bar{X}$. That is, $\\hat{p}=\\bar{X}$.\n",
        "    + Calculate the fisher information of $p$, $I(p)$.\n",
        "    + What is the asymtotic distribution of $\\hat{p}$?"
      ]
    },
    {
      "cell_type": "markdown",
      "metadata": {
        "id": "pjuFpUL0BA41"
      },
      "source": [
        "## 4-1. Show that the MLE of $p$ is $\\bar{X}$. That is, $\\hat{p}=\\bar{X}$."
      ]
    },
    {
      "cell_type": "markdown",
      "metadata": {
        "id": "Y9tpdldkA3px"
      },
      "source": [
        "Through the second derivatibe of the log likelihood function, \n",
        "$$\n",
        "\\ddot{l}_x(\\theta ) = \\frac{\\partial^2 }{\\partial \\theta^2} log f_\\theta(x) = \\frac{\\ddot{f}_\\theta(x)}{f_\\theta(x)} - \\left ( \\frac{\\dot{f}_\\theta(x)}{f_\\theta(x)}\\right )^2 \n",
        "$$\n",
        "\n"
      ]
    },
    {
      "cell_type": "markdown",
      "metadata": {
        "id": "k70AefQ7yxFP"
      },
      "source": [
        "\n",
        "\n",
        "> Assumption \n",
        "\n",
        "$$\n",
        "f(x|p)=p^x(1-p)^{1-x}\n",
        "$$\n",
        "and taking the logarithm\n",
        "$$\n",
        "\\log f(x|p)=x\\log p+(1-x)\\log(1-p).\n",
        "$$\n",
        "\n",
        "\n",
        "\n",
        "> Derivation \n",
        "\n",
        "$$\n",
        "\\dot l_x(p) =\\frac{\\partial }{\\partial p} log f(x|p)= \\frac{x}{p} + \\frac{x-1}{1-p} = \\frac{x-xp+xp-p}{p(1-p)} = \\frac{x-p}{p(1-p)}\n",
        "$$\n",
        "$$\n",
        "\\ddot l_x(p) =\\frac{\\partial^2 }{\\partial p^2} log f(x|p) = -\\frac{x}{p^2} + \\frac{x-1}{(1-p)^2}\n",
        "$$\n",
        "\n",
        "In case of $\\hat{p}$, we can assume that $\\dot l_x(\\hat{p}|x) = 0 $. \n",
        "\n",
        "$$\n",
        "\\dot l_x(\\hat{p}) = \\frac{x-\\hat{p}}{\\hat{p}(1-\\hat{p})} = 0 \n",
        "$$\n",
        "\n",
        "$$\n",
        "\\frac{x}{\\hat{p}(1-\\hat{p})} = \\frac{x}{\\hat{p}(1-\\hat{p})}\n",
        "$$\n",
        "$$\n",
        "x = \\hat{p}\n",
        "$$"
      ]
    },
    {
      "cell_type": "markdown",
      "metadata": {
        "id": "YJqzQu7wlJJs"
      },
      "source": [
        "## 4-2. Calculate the fisher information of $p$, $I(p)$.\n"
      ]
    },
    {
      "cell_type": "markdown",
      "metadata": {
        "id": "FA7gmi8245rj"
      },
      "source": [
        "\n",
        "\n",
        "> Fisher Information \n",
        "\n",
        "$$\n",
        "I(p) = E_p\\left \\{ [\\dot l(x|p)]^2 \\right \\} = \\int [\\dot l(x|p)]^2 f(x|p) dx\n",
        " = - E_p [\\ddot l(x|p)] \n",
        "$$\n",
        "$$\n",
        "= - \\int  \\frac{\\partial^2 }{\\partial p^2} log f(x|p) f(x|p) dx\n",
        "$$\n",
        "\n",
        "> Derivation \n",
        "\n",
        "$$\n",
        "\\dot l_x(p) =\\frac{x}{p} + \\frac{x-1}{1-p}= \\frac{x-p}{p(1-p)}\n",
        "$$\n",
        "$$\n",
        "\\ddot l_x(p)= -\\frac{x}{p^2} + \\frac{x-1}{(1-p)^2}\n",
        "$$\n",
        "$$\n",
        "I(p) = - E[\\ddot l(x|p)]  = - E[-\\frac{x}{p^2} + \\frac{x-1}{(1-p)^2}]\n",
        "$$\n",
        "$$\n",
        "= \\frac{E[x]}{p^2} - \\frac{E[x]-1}{(1-p)^2}\n",
        "$$\n",
        "Since E(x) = p\n",
        "\n",
        "$$\n",
        "= \\frac{p}{p^2} - \\frac{p-1}{(1-p)^2} = \\frac{1}{p} + \\frac{1}{1-p}\n",
        "$$\n",
        "\n",
        "> Result\n",
        "\n",
        "$$\n",
        "I(p) = \\frac{1}{p(1-p)}  \n",
        "$$\n",
        "\n",
        "\n"
      ]
    },
    {
      "cell_type": "markdown",
      "metadata": {
        "id": "4wS9SPWylNAk"
      },
      "source": [
        "## 4-3. What is the asymtotic distribution of $\\hat{p}$?"
      ]
    },
    {
      "cell_type": "markdown",
      "metadata": {
        "id": "t7WwcNm_-GWm"
      },
      "source": [
        "> Derivation \n",
        "\n",
        "$$\n",
        "\\dot l_x(p) =\\frac{x}{p} + \\frac{x-1}{1-p}= \\frac{x-p}{p(1-p)}\n",
        "$$\n",
        "$$\n",
        "\\ddot l_x(p)= -\\frac{x}{p^2} + \\frac{x-1}{(1-p)^2}\n",
        "$$\n",
        "$$\n",
        "I_x(p) =E[\\dot l (x|p)] = \\frac{E(X)}{p^2} + \\frac{1-E(X)}{(1-p)^2} = \\frac{1}{p}+\\frac{1}{1-p} = \\frac{1}{p(1-p)}  \n",
        "$$\n",
        "\n",
        "\n",
        "> Result\n",
        "\n",
        "$$\n",
        "I_x(p)  = \\frac{1}{p(1-p)}  \n",
        "$$"
      ]
    },
    {
      "cell_type": "markdown",
      "metadata": {
        "id": "lKEESBc0-pEr"
      },
      "source": [
        "# Problem 5"
      ]
    },
    {
      "cell_type": "markdown",
      "metadata": {
        "id": "OgiOrWwLGpZV"
      },
      "source": [
        "5. Let $X_1,\\ldots,X_n$ be iid Poisson($\\lambda$), and let $\\bar{X}$ be the sample mean. \n",
        "     + Show that $\\bar{X}$ is an unbiaed estimator of $\\lambda$. \n",
        "     + For any other unbiased estimator of $\\lambda$, $W$, show that \n",
        "    $$\n",
        "    Var_{\\lambda}\\bar{X}\\leq Var_{\\lambda}W\n",
        "    $$"
      ]
    },
    {
      "cell_type": "markdown",
      "metadata": {
        "id": "4ACokPLYGSA7"
      },
      "source": [
        "\n",
        "\n",
        "> Assumption \n",
        "1. \n",
        "$$\n",
        " \\frac{d}{d \\theta}E_\\theta W(x) = \\int_x \\frac{\\partial}{\\partial \\theta}[W(x) f(x|\\theta)] dx\n",
        "$$\n",
        "2. \n",
        "$$\n",
        "Var_\\theta W(x) < \\infty\n",
        "$$\n",
        "3. \n",
        "$$\n",
        "Var_\\theta W(x) \\geq \\frac{(\\frac{\\partial}{\\partial \\theta}[E(W(x|\\theta))])^2}{(\\frac{\\partial}{\\partial \\theta}log f(x|\\theta))^2} \n",
        "$$\n",
        "4. Cramer-rao lower bound\n",
        "\n",
        "$$\n",
        "Var_\\theta\\{\\hat{\\theta}\\} \\geq \\frac{1}{nI_\\theta}\n",
        "$$\n",
        "\n",
        "5. If $f(x|\\theta)$ is an exponential family, \n",
        "$$\n",
        "E_\\theta ((\\frac{\\partial}{\\partial \\theta}log f(x|\\theta))^2) = -E_\\theta (\\frac{\\partial^2}{\\partial \\theta^2}log f(x|\\theta)) \n",
        "$$\n",
        "6. $\\bar{X}$ is an unbiased estimator of $\\lambda$.\n",
        "$$\n",
        "E_\\lambda \\bar{X} = \\lambda\n",
        "$$\n",
        "\n",
        "\n",
        "\n",
        "> Approach \n",
        "\n",
        "Information number(Fisher information) = $E_\\theta ((\\frac{\\partial}{\\partial \\theta}log f(x|\\theta))^2)$\n",
        "\n",
        "- the information number gives a bound on the varienve of the best unbiased estimator of $\\theta$\n",
        "- e.g) As the infromation number gets bigger and it has more information about $\\theta$, we have a similar bound on the variance of the best unbiased estimator.\n",
        "\n",
        "\n",
        "> Derivation\n",
        "\n",
        "As Poisson( λ ) is an exponential family, we can derive below. \n",
        "\n",
        "$$\n",
        "E_\\lambda((\\frac{\\partial}{\\partial \\lambda }log \\prod_{i=0}^{n}f(X_i|\\lambda))^2) = -nE_\\lambda(\\frac{\\partial^2}{\\partial \\lambda ^2}log f(X|\\lambda))\n",
        "$$\n",
        "$$\n",
        "= -nE_\\lambda(\\frac{\\partial^2}{\\partial \\lambda ^2}log (\\frac{e^{-\\lambda}\\lambda^X}{X!}))\n",
        "$$\n",
        "\n",
        "$$\n",
        "= -nE_\\lambda(\\frac{\\partial^2}{\\partial \\lambda ^2}(-\\lambda + Xlog \\lambda -log X!))\n",
        "$$\n",
        "\n",
        "- Remove constants after differentiation \n",
        "\n",
        "$$\n",
        "= -nE_\\lambda(-\\frac{X}{\\lambda^2})\n",
        "$$\n",
        "\n",
        "$$\n",
        "= -nE_\\lambda(-\\frac{X}{\\lambda^2})\n",
        "$$\n",
        "$$\n",
        "= \\frac{n}{\\lambda}\n",
        "$$\n",
        "\n",
        "Means, \n",
        "$$\n",
        "Var_\\lambda \\bar{W} \\geq \\lambda/n\n",
        "$$\n",
        "\n",
        "\n",
        "\n",
        "> Result \n",
        "\n",
        "$$\n",
        "Var_\\lambda \\bar{W} \\geq \\lambda/n\n",
        "$$\n",
        "\n",
        "Since $Var_\\lambda \\bar{X} = \\lambda/n$, then above notation is acceptable, \n",
        "- we can say that $\\bar{X}$ is an unbiased estimator of $\\lambda$.\n",
        "\n",
        "\n"
      ]
    }
  ]
}